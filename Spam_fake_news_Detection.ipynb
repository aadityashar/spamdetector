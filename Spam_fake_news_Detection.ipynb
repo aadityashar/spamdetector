{
  "nbformat": 4,
  "nbformat_minor": 0,
  "metadata": {
    "colab": {
      "name": "Spam/fake news Detection.ipynb",
      "provenance": [],
      "collapsed_sections": [],
      "include_colab_link": true
    },
    "kernelspec": {
      "name": "python3",
      "display_name": "Python 3"
    }
  },
  "cells": [
    {
      "cell_type": "markdown",
      "metadata": {
        "id": "view-in-github",
        "colab_type": "text"
      },
      "source": [
        "<a href=\"https://colab.research.google.com/github/aadityashar/spamdetector/blob/master/Spam_fake_news_Detection.ipynb\" target=\"_parent\"><img src=\"https://colab.research.google.com/assets/colab-badge.svg\" alt=\"Open In Colab\"/></a>"
      ]
    },
    {
      "cell_type": "code",
      "metadata": {
        "id": "soL1DkDU3Xa5",
        "colab_type": "code",
        "colab": {}
      },
      "source": [
        "import pandas as pd\n",
        "import matplotlib.pyplot as plt\n",
        "from sklearn.feature_extraction.text import CountVectorizer\n",
        "from sklearn.naive_bayes import MultinomialNB\n",
        "from google.colab import files\n",
        "from sklearn.model_selection import train_test_split\n",
        "from sklearn.metrics import accuracy_score\n",
        "import pydrive"
      ],
      "execution_count": 2,
      "outputs": []
    },
    {
      "cell_type": "code",
      "metadata": {
        "id": "J6Io3MBt0bon",
        "colab_type": "code",
        "colab": {}
      },
      "source": [
        "#read\n",
        "#files.upload()"
      ],
      "execution_count": 3,
      "outputs": []
    },
    {
      "cell_type": "code",
      "metadata": {
        "id": "ON2lKwZn72te",
        "colab_type": "code",
        "colab": {}
      },
      "source": [
        ""
      ],
      "execution_count": 3,
      "outputs": []
    },
    {
      "cell_type": "markdown",
      "metadata": {
        "id": "ZDhvEdma4WP-",
        "colab_type": "text"
      },
      "source": [
        "https://www.analyticsvidhya.com/blog/2017/09/naive-bayes-explained/?\n",
        "http://precog.iiitd.edu.in/pubs/Sawinder_Kaur_SCI_Journal.pdf\n",
        "https://www.datacamp.com/community/tutorials/scikit-learn-fake-news\n"
      ]
    },
    {
      "cell_type": "code",
      "metadata": {
        "id": "SOcW4d9n743z",
        "colab_type": "code",
        "colab": {}
      },
      "source": [
        "fakenews=pd.read_csv('/content/drive/My Drive/SMSSpamCollection.txt',header=None,sep='\t')\n",
        "fakenews.head\n",
        "dffn=fakenews.replace(['ham','spam'],[0,1])\n",
        "dffn.columns=['label','text']\n"
      ],
      "execution_count": 6,
      "outputs": []
    },
    {
      "cell_type": "code",
      "metadata": {
        "id": "tzPGsx98i_u4",
        "colab_type": "code",
        "colab": {
          "base_uri": "https://localhost:8080/",
          "height": 122
        },
        "outputId": "145dab0a-02af-404c-b4be-7c1909f355db"
      },
      "source": [
        "from google.colab import drive\n",
        "drive.mount('/content/drive')"
      ],
      "execution_count": 5,
      "outputs": [
        {
          "output_type": "stream",
          "text": [
            "Go to this URL in a browser: https://accounts.google.com/o/oauth2/auth?client_id=947318989803-6bn6qk8qdgf4n4g3pfee6491hc0brc4i.apps.googleusercontent.com&redirect_uri=urn%3aietf%3awg%3aoauth%3a2.0%3aoob&response_type=code&scope=email%20https%3a%2f%2fwww.googleapis.com%2fauth%2fdocs.test%20https%3a%2f%2fwww.googleapis.com%2fauth%2fdrive%20https%3a%2f%2fwww.googleapis.com%2fauth%2fdrive.photos.readonly%20https%3a%2f%2fwww.googleapis.com%2fauth%2fpeopleapi.readonly\n",
            "\n",
            "Enter your authorization code:\n",
            "··········\n",
            "Mounted at /content/drive\n"
          ],
          "name": "stdout"
        }
      ]
    },
    {
      "cell_type": "markdown",
      "metadata": {
        "id": "Opedh-nQuW5U",
        "colab_type": "text"
      },
      "source": [
        "Error : No file of SMSSpamCollection (1).txt   \n",
        "kahan hai yeh?\n",
        "Uploaded\n",
        "Mount drive"
      ]
    },
    {
      "cell_type": "code",
      "metadata": {
        "id": "QJ04_7gybwVW",
        "colab_type": "code",
        "colab": {}
      },
      "source": [
        "#from google.colab import drive\n",
        "#drive.mount('/content/drive') "
      ],
      "execution_count": null,
      "outputs": []
    },
    {
      "cell_type": "code",
      "metadata": {
        "id": "DskA07k6Q1zv",
        "colab_type": "code",
        "colab": {
          "base_uri": "https://localhost:8080/",
          "height": 419
        },
        "outputId": "8ca58ae4-c3b9-4313-9d4e-0244b269eb0c"
      },
      "source": [
        "dffn"
      ],
      "execution_count": 7,
      "outputs": [
        {
          "output_type": "execute_result",
          "data": {
            "text/html": [
              "<div>\n",
              "<style scoped>\n",
              "    .dataframe tbody tr th:only-of-type {\n",
              "        vertical-align: middle;\n",
              "    }\n",
              "\n",
              "    .dataframe tbody tr th {\n",
              "        vertical-align: top;\n",
              "    }\n",
              "\n",
              "    .dataframe thead th {\n",
              "        text-align: right;\n",
              "    }\n",
              "</style>\n",
              "<table border=\"1\" class=\"dataframe\">\n",
              "  <thead>\n",
              "    <tr style=\"text-align: right;\">\n",
              "      <th></th>\n",
              "      <th>label</th>\n",
              "      <th>text</th>\n",
              "    </tr>\n",
              "  </thead>\n",
              "  <tbody>\n",
              "    <tr>\n",
              "      <th>0</th>\n",
              "      <td>0</td>\n",
              "      <td>Go until jurong point, crazy.. Available only ...</td>\n",
              "    </tr>\n",
              "    <tr>\n",
              "      <th>1</th>\n",
              "      <td>0</td>\n",
              "      <td>Ok lar... Joking wif u oni...</td>\n",
              "    </tr>\n",
              "    <tr>\n",
              "      <th>2</th>\n",
              "      <td>1</td>\n",
              "      <td>Free entry in 2 a wkly comp to win FA Cup fina...</td>\n",
              "    </tr>\n",
              "    <tr>\n",
              "      <th>3</th>\n",
              "      <td>0</td>\n",
              "      <td>U dun say so early hor... U c already then say...</td>\n",
              "    </tr>\n",
              "    <tr>\n",
              "      <th>4</th>\n",
              "      <td>0</td>\n",
              "      <td>Nah I don't think he goes to usf, he lives aro...</td>\n",
              "    </tr>\n",
              "    <tr>\n",
              "      <th>...</th>\n",
              "      <td>...</td>\n",
              "      <td>...</td>\n",
              "    </tr>\n",
              "    <tr>\n",
              "      <th>5567</th>\n",
              "      <td>1</td>\n",
              "      <td>This is the 2nd time we have tried 2 contact u...</td>\n",
              "    </tr>\n",
              "    <tr>\n",
              "      <th>5568</th>\n",
              "      <td>0</td>\n",
              "      <td>Will ü b going to esplanade fr home?</td>\n",
              "    </tr>\n",
              "    <tr>\n",
              "      <th>5569</th>\n",
              "      <td>0</td>\n",
              "      <td>Pity, * was in mood for that. So...any other s...</td>\n",
              "    </tr>\n",
              "    <tr>\n",
              "      <th>5570</th>\n",
              "      <td>0</td>\n",
              "      <td>The guy did some bitching but I acted like i'd...</td>\n",
              "    </tr>\n",
              "    <tr>\n",
              "      <th>5571</th>\n",
              "      <td>0</td>\n",
              "      <td>Rofl. Its true to its name</td>\n",
              "    </tr>\n",
              "  </tbody>\n",
              "</table>\n",
              "<p>5572 rows × 2 columns</p>\n",
              "</div>"
            ],
            "text/plain": [
              "      label                                               text\n",
              "0         0  Go until jurong point, crazy.. Available only ...\n",
              "1         0                      Ok lar... Joking wif u oni...\n",
              "2         1  Free entry in 2 a wkly comp to win FA Cup fina...\n",
              "3         0  U dun say so early hor... U c already then say...\n",
              "4         0  Nah I don't think he goes to usf, he lives aro...\n",
              "...     ...                                                ...\n",
              "5567      1  This is the 2nd time we have tried 2 contact u...\n",
              "5568      0               Will ü b going to esplanade fr home?\n",
              "5569      0  Pity, * was in mood for that. So...any other s...\n",
              "5570      0  The guy did some bitching but I acted like i'd...\n",
              "5571      0                         Rofl. Its true to its name\n",
              "\n",
              "[5572 rows x 2 columns]"
            ]
          },
          "metadata": {
            "tags": []
          },
          "execution_count": 7
        }
      ]
    },
    {
      "cell_type": "code",
      "metadata": {
        "id": "fLz5J8-KQsor",
        "colab_type": "code",
        "colab": {}
      },
      "source": [
        ""
      ],
      "execution_count": null,
      "outputs": []
    },
    {
      "cell_type": "code",
      "metadata": {
        "id": "t6nDAlvtFZy-",
        "colab_type": "code",
        "colab": {}
      },
      "source": [
        "x_train,x_test,y_train,y_test = train_test_split(dffn['text'],dffn['label'])\n"
      ],
      "execution_count": 8,
      "outputs": []
    },
    {
      "cell_type": "code",
      "metadata": {
        "id": "x2wQWt_ZSndP",
        "colab_type": "code",
        "colab": {
          "base_uri": "https://localhost:8080/",
          "height": 34
        },
        "outputId": "55cda155-625e-47f9-8d5c-23b1f18c2336"
      },
      "source": [
        "vectorizer=CountVectorizer()\n",
        "counts=vectorizer.fit_transform(x_train.values) #number of each word in each message\n",
        "classifier=MultinomialNB()\n",
        "targets=y_train.values\n",
        "classifier.fit(counts,targets)\n"
      ],
      "execution_count": 9,
      "outputs": [
        {
          "output_type": "execute_result",
          "data": {
            "text/plain": [
              "MultinomialNB(alpha=1.0, class_prior=None, fit_prior=True)"
            ]
          },
          "metadata": {
            "tags": []
          },
          "execution_count": 9
        }
      ]
    },
    {
      "cell_type": "code",
      "metadata": {
        "id": "HqIoKpWtqDqL",
        "colab_type": "code",
        "colab": {}
      },
      "source": [
        ""
      ],
      "execution_count": null,
      "outputs": []
    },
    {
      "cell_type": "code",
      "metadata": {
        "id": "Sgnht77zVbu2",
        "colab_type": "code",
        "colab": {
          "base_uri": "https://localhost:8080/",
          "height": 690
        },
        "outputId": "1213fcb5-86f3-432c-d9f2-ef2654e07e00"
      },
      "source": [
        "\n",
        "example_count=vectorizer.transform(x_test.values) #I was fitting instead of just transforming\n",
        "predictions=classifier.predict(example_count)\n",
        "df2=pd.DataFrame(columns=[x_test,predictions]) #Please Check the error\n",
        "df2\n",
        "\n",
        "#0-ham\n",
        "#1-spam"
      ],
      "execution_count": 10,
      "outputs": [
        {
          "output_type": "execute_result",
          "data": {
            "text/html": [
              "<div>\n",
              "<style scoped>\n",
              "    .dataframe tbody tr th:only-of-type {\n",
              "        vertical-align: middle;\n",
              "    }\n",
              "\n",
              "    .dataframe tbody tr th {\n",
              "        vertical-align: top;\n",
              "    }\n",
              "\n",
              "    .dataframe thead tr th {\n",
              "        text-align: left;\n",
              "    }\n",
              "</style>\n",
              "<table border=\"1\" class=\"dataframe\">\n",
              "  <thead>\n",
              "    <tr>\n",
              "      <th>text</th>\n",
              "      <th>That was random saw my old roomate on campus. He graduated</th>\n",
              "      <th>Umma my life and vava umma love you lot dear</th>\n",
              "      <th>Or maybe my fat fingers just press all these buttons and it doesn't know what to do.</th>\n",
              "      <th>As in i want custom officer discount oh.</th>\n",
              "      <th>Hi frnd, which is best way to avoid missunderstding wit our beloved one's?</th>\n",
              "      <th>I dont know oh. Hopefully this month.</th>\n",
              "      <th>For the most sparkling shopping breaks from 45 per person; call 0121 2025050 or visit www.shortbreaks.org.uk</th>\n",
              "      <th>I dont have any of your file in my bag..i was in work when you called me.i 'll tell you if i find anything in my room.</th>\n",
              "      <th>Miss ya, need ya, want ya, love ya.</th>\n",
              "      <th>Goal! Arsenal 4 (Henry, 7 v Liverpool 2 Henry scores with a simple shot from 6 yards from a pass by Bergkamp to give Arsenal a 2 goal margin after 78 mins.</th>\n",
              "      <th>Oh did you charge camera</th>\n",
              "      <th>Solve d Case : A Man Was Found Murdered On  &amp;lt;DECIMAL&amp;gt; . &amp;lt;#&amp;gt;  AfterNoon. 1,His wife called Police. 2,Police questioned everyone. 3,Wife: Sir,I was sleeping, when the murder took place. 4.Cook: I was cooking. 5.Gardener: I was picking vegetables. 6.House-Maid: I went 2 d post office. 7.Children: We went 2 play. 8.Neighbour: We went 2 a marriage. Police arrested d murderer Immediately. Who's It? Reply With Reason, If U r Brilliant.</th>\n",
              "      <th>But i'm surprised she still can guess right lor...</th>\n",
              "      <th>Ü come lt 25 n pass to me lar</th>\n",
              "      <th>Sir, I have been late in paying rent for the past few months and had to pay a $ &amp;lt;#&amp;gt;  charge. I felt it would be inconsiderate of me to nag about something you give at great cost to yourself and that's why i didnt speak up. I however am in a recession and wont be able to pay the charge this month hence my askin well ahead of month's end. Can you please help. Thanks</th>\n",
              "      <th>5p 4 alfie Moon's Children in need song on ur mob. Tell ur m8s. Txt Tone charity to 8007 for Nokias or Poly charity for polys: zed 08701417012 profit 2 charity.</th>\n",
              "      <th>Greetings me, ! Consider yourself excused.</th>\n",
              "      <th>Ur cash-balance is currently 500 pounds - to maximize ur cash-in now send GO to 86688 only 150p/meg. CC: 08718720201 HG/Suite342/2lands Row/W1j6HL</th>\n",
              "      <th>PRIVATE! Your 2003 Account Statement for shows 800 un-redeemed S. I. M. points. Call 08718738002 Identifier Code: 48922 Expires 21/11/04</th>\n",
              "      <th>Fuck cedar key and fuck her (come over anyway tho)</th>\n",
              "      <th>Every King Was Once A Crying Baby And Every Great Building Was Once A Map.. Not Imprtant Where U r TODAY, BUT Where U Wil Reach TOMORW. Gud ni8</th>\n",
              "      <th>Midnight at the earliest</th>\n",
              "      <th>But i juz remembered i gotta bathe my dog today..</th>\n",
              "      <th>Tell rob to mack his gf in the theater</th>\n",
              "      <th>Some friends want me to drive em someplace, probably take a while</th>\n",
              "      <th>74355 XMAS iscoming &amp; ur awarded either £500 CD gift vouchers &amp; free entry 2 r £100 weekly draw txt MUSIC to 87066 TnC</th>\n",
              "      <th>Yay can't wait to party together!</th>\n",
              "      <th>Ok... Help me ask if she's working tmr a not?</th>\n",
              "      <th>Evening * v good if somewhat event laden. Will fill you in, don't you worry … Head * ok but throat * wrecked. See you at six then!</th>\n",
              "      <th>No b4 Thursday</th>\n",
              "      <th>I will see in half an hour</th>\n",
              "      <th>Meeting u is my work. . . Tel me when shall i do my work tomorrow</th>\n",
              "      <th>So check your errors and if you had difficulties, do correction.</th>\n",
              "      <th>Pls speak to that customer machan.</th>\n",
              "      <th>If you have belive me. Come to my home.</th>\n",
              "      <th>Wot u up 2 u weirdo?</th>\n",
              "      <th>No problem with the renewal. I.ll do it right away but i dont know his details.</th>\n",
              "      <th>U have a secret admirer. REVEAL who thinks U R So special. Call 09065174042. To opt out Reply REVEAL STOP. 1.50 per msg recd. Cust care 07821230901</th>\n",
              "      <th>Havent shopping now lor i juz arrive only</th>\n",
              "      <th>Madam,regret disturbance.might receive a reference check from DLF Premarica.kindly be informed.Rgds,Rakhesh,Kerala.</th>\n",
              "      <th>...</th>\n",
              "      <th>Company is very good.environment is terrific and food is really nice:)</th>\n",
              "      <th>Wot is u up 2 then bitch?</th>\n",
              "      <th>No dice, art class 6 thru 9 :( thanks though. Any idea what time I should come tomorrow?</th>\n",
              "      <th>Fine if thats the way u feel. Thats the way its gota b</th>\n",
              "      <th>Dunno i juz askin cos i got a card got 20% off 4 a salon called hair sense so i tot it's da one ü cut ur hair.</th>\n",
              "      <th>Idk. I'm sitting here in a stop and shop parking lot right now bawling my eyes out because i feel like i'm a failure in everything. Nobody wants me and now i feel like i'm failing you.</th>\n",
              "      <th>Im on gloucesterroad what are uup to later?</th>\n",
              "      <th>I've reached already.</th>\n",
              "      <th>Where do you need to go to get it?</th>\n",
              "      <th>Bill, as in: Are there any letters for me. i’m expecting one from orange that isn’t a bill but may still say orange on it.</th>\n",
              "      <th>We spend our days waiting for the ideal path to appear in front of us.. But what we forget is.. \"paths are made by walking.. not by waiting..\" Goodnight!</th>\n",
              "      <th>not that I know of, most people up here are still out of town</th>\n",
              "      <th>Well I wasn't available as I washob nobbing with last night so they had to ask Nickey Platt instead of me!;</th>\n",
              "      <th>Sometimes Heart Remembrs someone Very much... Forgets someone soon... Bcoz Heart will not like everyone. But liked ones will be Remembered Everytime... BSLVYL</th>\n",
              "      <th>K, text me when you're on the way</th>\n",
              "      <th>Yar else i'll thk of all sorts of funny things.</th>\n",
              "      <th>K. I will sent it again</th>\n",
              "      <th>Not heard from U4 a while. Call 4 rude chat private line 01223585334 to cum. Wan 2C pics of me gettin shagged then text PIX to 8552. 2End send STOP 8552 SAM xxx</th>\n",
              "      <th>I always chat with you. In fact i need money can you raise me?</th>\n",
              "      <th>Don know..wait i will check it.</th>\n",
              "      <th>Todays Voda numbers ending 1225 are selected to receive a £50award. If you have a match please call 08712300220 quoting claim code 3100 standard rates app</th>\n",
              "      <th>PRIVATE! Your 2003 Account Statement for shows 800 un-redeemed S.I.M. points. Call 08715203685 Identifier Code:4xx26 Expires 13/10/04</th>\n",
              "      <th>No calls..messages..missed calls</th>\n",
              "      <th>Is that what time you want me to come?</th>\n",
              "      <th>I'm done oredi...</th>\n",
              "      <th>Omw back to tampa from west palm, you hear what happened?</th>\n",
              "      <th>I dont thnk its a wrong calling between us</th>\n",
              "      <th>Mum ask ü to buy food home...</th>\n",
              "      <th>He's really into skateboarding now despite the fact that he gets thrown off of it and winds up with bandages and shit all over his arms every five minutes</th>\n",
              "      <th>hi baby im sat on the bloody bus at the mo and i wont be home until about 7:30 wanna do somethin later? call me later ortxt back jess xx</th>\n",
              "      <th>Oh baby of the house. How come you dont have any new pictures on facebook</th>\n",
              "      <th>Hope youre not having too much fun without me!! see u tomorrow love jess x</th>\n",
              "      <th>Dont worry. I guess he's busy.</th>\n",
              "      <th>K.k:)i'm going to tirunelvali this week to see my uncle ..i already spend the amount by taking dress .so only i want money.i will give it on feb 1</th>\n",
              "      <th>Yes, princess. Toledo.</th>\n",
              "      <th>Discussed with your mother ah?</th>\n",
              "      <th>Hey company elama po mudyadhu.</th>\n",
              "      <th>Huh means computational science... Y they like dat one push here n there...</th>\n",
              "      <th>Babe, have you got enough money to pick up bread and milk ? And I'll give you it back when you get home ?</th>\n",
              "      <th>Your account has been refilled successfully by INR  &amp;lt;DECIMAL&amp;gt; . Your KeralaCircle prepaid account balance is Rs  &amp;lt;DECIMAL&amp;gt; . Your Transaction ID is KR &amp;lt;#&amp;gt; .</th>\n",
              "    </tr>\n",
              "    <tr>\n",
              "      <th></th>\n",
              "      <th>0</th>\n",
              "      <th>0</th>\n",
              "      <th>0</th>\n",
              "      <th>0</th>\n",
              "      <th>0</th>\n",
              "      <th>0</th>\n",
              "      <th>1</th>\n",
              "      <th>0</th>\n",
              "      <th>0</th>\n",
              "      <th>1</th>\n",
              "      <th>0</th>\n",
              "      <th>0</th>\n",
              "      <th>0</th>\n",
              "      <th>0</th>\n",
              "      <th>0</th>\n",
              "      <th>1</th>\n",
              "      <th>0</th>\n",
              "      <th>1</th>\n",
              "      <th>1</th>\n",
              "      <th>0</th>\n",
              "      <th>0</th>\n",
              "      <th>0</th>\n",
              "      <th>0</th>\n",
              "      <th>0</th>\n",
              "      <th>0</th>\n",
              "      <th>1</th>\n",
              "      <th>0</th>\n",
              "      <th>0</th>\n",
              "      <th>0</th>\n",
              "      <th>0</th>\n",
              "      <th>0</th>\n",
              "      <th>0</th>\n",
              "      <th>0</th>\n",
              "      <th>0</th>\n",
              "      <th>0</th>\n",
              "      <th>0</th>\n",
              "      <th>0</th>\n",
              "      <th>1</th>\n",
              "      <th>0</th>\n",
              "      <th>0</th>\n",
              "      <th>...</th>\n",
              "      <th>0</th>\n",
              "      <th>0</th>\n",
              "      <th>0</th>\n",
              "      <th>0</th>\n",
              "      <th>0</th>\n",
              "      <th>0</th>\n",
              "      <th>0</th>\n",
              "      <th>0</th>\n",
              "      <th>0</th>\n",
              "      <th>0</th>\n",
              "      <th>0</th>\n",
              "      <th>0</th>\n",
              "      <th>0</th>\n",
              "      <th>0</th>\n",
              "      <th>0</th>\n",
              "      <th>0</th>\n",
              "      <th>0</th>\n",
              "      <th>1</th>\n",
              "      <th>0</th>\n",
              "      <th>0</th>\n",
              "      <th>1</th>\n",
              "      <th>1</th>\n",
              "      <th>0</th>\n",
              "      <th>0</th>\n",
              "      <th>0</th>\n",
              "      <th>0</th>\n",
              "      <th>0</th>\n",
              "      <th>0</th>\n",
              "      <th>0</th>\n",
              "      <th>0</th>\n",
              "      <th>0</th>\n",
              "      <th>0</th>\n",
              "      <th>0</th>\n",
              "      <th>0</th>\n",
              "      <th>0</th>\n",
              "      <th>0</th>\n",
              "      <th>0</th>\n",
              "      <th>0</th>\n",
              "      <th>0</th>\n",
              "      <th>0</th>\n",
              "    </tr>\n",
              "  </thead>\n",
              "  <tbody>\n",
              "  </tbody>\n",
              "</table>\n",
              "<p>0 rows × 1393 columns</p>\n",
              "</div>"
            ],
            "text/plain": [
              "Empty DataFrame\n",
              "Columns: [(That was random saw my old roomate on campus. He graduated, 0), (Umma my life and vava umma love you lot dear, 0), (Or maybe my fat fingers just press all these buttons and it doesn't know what to do., 0), (As in i want custom officer discount oh., 0), (Hi frnd, which is best way to avoid missunderstding wit our beloved one's?, 0), (I dont know oh. Hopefully this month., 0), (For the most sparkling shopping breaks from 45 per person; call 0121 2025050 or visit www.shortbreaks.org.uk, 1), (I dont have any of your file in my bag..i was in work when you called me.i 'll tell you if i find anything in my room., 0), (Miss ya, need ya, want ya, love ya., 0), (Goal! Arsenal 4 (Henry, 7 v Liverpool 2 Henry scores with a simple shot from 6 yards from a pass by Bergkamp to give Arsenal a 2 goal margin after 78 mins., 1), (Oh did you charge camera, 0), (Solve d Case : A Man Was Found Murdered On  &lt;DECIMAL&gt; . &lt;#&gt;  AfterNoon. 1,His wife called Police. 2,Police questioned everyone. 3,Wife: Sir,I was sleeping, when the murder took place. 4.Cook: I was cooking. 5.Gardener: I was picking vegetables. 6.House-Maid: I went 2 d post office. 7.Children: We went 2 play. 8.Neighbour: We went 2 a marriage. Police arrested d murderer Immediately. Who's It? Reply With Reason, If U r Brilliant., 0), (But i'm surprised she still can guess right lor..., 0), (Ü come lt 25 n pass to me lar, 0), (Sir, I have been late in paying rent for the past few months and had to pay a $ &lt;#&gt;  charge. I felt it would be inconsiderate of me to nag about something you give at great cost to yourself and that's why i didnt speak up. I however am in a recession and wont be able to pay the charge this month hence my askin well ahead of month's end. Can you please help. Thanks, 0), (5p 4 alfie Moon's Children in need song on ur mob. Tell ur m8s. Txt Tone charity to 8007 for Nokias or Poly charity for polys: zed 08701417012 profit 2 charity., 1), (Greetings me, ! Consider yourself excused., 0), (Ur cash-balance is currently 500 pounds - to maximize ur cash-in now send GO to 86688 only 150p/meg. CC: 08718720201 HG/Suite342/2lands Row/W1j6HL, 1), (PRIVATE! Your 2003 Account Statement for shows 800 un-redeemed S. I. M. points. Call 08718738002 Identifier Code: 48922 Expires 21/11/04, 1), (Fuck cedar key and fuck her (come over anyway tho), 0), (Every King Was Once A Crying Baby And Every Great Building Was Once A Map.. Not Imprtant Where U r TODAY, BUT Where U Wil Reach TOMORW. Gud ni8, 0), (Midnight at the earliest, 0), (But i juz remembered i gotta bathe my dog today.., 0), (Tell rob to mack his gf in the theater, 0), (Some friends want me to drive em someplace, probably take a while, 0), (74355 XMAS iscoming & ur awarded either £500 CD gift vouchers & free entry 2 r £100 weekly draw txt MUSIC to 87066 TnC, 1), (Yay can't wait to party together!, 0), (Ok... Help me ask if she's working tmr a not?, 0), (Evening * v good if somewhat event laden. Will fill you in, don't you worry … Head * ok but throat * wrecked. See you at six then!, 0), (No b4 Thursday, 0), (I will see in half an hour, 0), (Meeting u is my work. . . Tel me when shall i do my work tomorrow, 0), (So check your errors and if you had difficulties, do correction., 0), (Pls speak to that customer machan., 0), (If you have belive me. Come to my home., 0), (Wot u up 2 u weirdo?, 0), (No problem with the renewal. I.ll do it right away but i dont know his details., 0), (U have a secret admirer. REVEAL who thinks U R So special. Call 09065174042. To opt out Reply REVEAL STOP. 1.50 per msg recd. Cust care 07821230901, 1), (Havent shopping now lor i juz arrive only, 0), (Madam,regret disturbance.might receive a reference check from DLF Premarica.kindly be informed.Rgds,Rakhesh,Kerala., 0), (CDs 4u: Congratulations ur awarded £500 of CD gift vouchers or £125 gift guaranteed & Freeentry 2 £100 wkly draw xt MUSIC to 87066 TnCs www.ldew.com1win150ppmx3age16 , 1), (I cant pick the phone right now. Pls send a message, 0), (Helloooo... Wake up..! \"Sweet\" \"morning\" \"welcomes\" \"You\" \"Enjoy\" \"This Day\" \"with full of joy\".. \"GUD MRNG\"., 0), (He says hi and to get your ass back to south tampa (preferably at a kegger), 0), (Mum say we wan to go then go... Then she can shun bian watch da glass exhibition... , 0), (I'm job profile seems like bpo.., 0), (Thanx a lot 4 ur help!, 0), (If he started searching he will get job in few days.he have great potential and talent., 0), (Yup... I havent been there before... You want to go for the yoga? I can call up to book , 0), (En chikku nange bakra msg kalstiya..then had tea/coffee?, 0), (Lol ok your forgiven :), 0), (Yavnt tried yet and never played original either, 0), (Let Ur Heart Be Ur Compass Ur Mind Ur Map Ur Soul Ur Guide And U Will Never loose in world....gnun - Sent via WAY2SMS.COM, 0), (Any way where are you and what doing., 0), (FROM 88066 LOST £12 HELP, 0), (Do you want a New Nokia 3510i colour phone DeliveredTomorrow? With 300 free minutes to any mobile + 100 free texts + Free Camcorder reply or call 08000930705., 1), (My birthday is on feb  &lt;#&gt;  da. ., 0), (Hey sathya till now we dint meet not even a single time then how can i saw the situation sathya., 0), (I had a good time too. Its nice to do something a bit different with my weekends for a change. See ya soon, 0), (Sorry, I'll call later, 0), (Free msg: Single? Find a partner in your area! 1000s of real people are waiting to chat now!Send CHAT to 62220Cncl send STOPCS 08717890890£1.50 per msg, 1), (Well there's a pattern emerging of my friends telling me to drive up and come smoke with them and then telling me that I'm a weed fiend/make them smoke too much/impede their doing other things so you see how I'm hesitant, 0), (I hope your pee burns tonite., 0), (How are you holding up?, 0), (He also knows about lunch menu only da. . I know, 0), (Xmas Offer! Latest Motorola, SonyEricsson & Nokia & FREE Bluetooth or DVD! Double Mins & 1000 Txt on Orange. Call MobileUpd8 on 08000839402 or call2optout/4QF2, 1), (Give her something to drink, if she takes it and doesn't vomit then you her temp might drop. If she unmits however let me know., 0), (Umma. Did she say anything, 0), (I'm an actor. When i work, i work in the evening and sleep late. Since i'm unemployed at the moment, i ALWAYS sleep late. When you're unemployed, every day is saturday., 0), (Sweet heart how are you?, 0), (I liked your new house, 0), (Poor girl can't go one day lmao, 0), (Dis is yijue. I jus saw ur mail. In case huiming havent sent u my num. Dis is my num., 0), (Good morning pookie pie! Lol hope I didn't wake u up, 0), (Why do you ask princess?, 0), (Stupid.its not possible, 0), (Your bill at 3 is £33.65 so thats not bad!, 0), (Yes..he is really great..bhaji told kallis best cricketer after sachin in world:).very tough to get out., 0), (Well done ENGLAND! Get the official poly ringtone or colour flag on yer mobile! text TONE or FLAG to 84199 NOW! Opt-out txt ENG STOP. Box39822 W111WX £1.50, 1), (Except theres a chick with huge boobs., 0), (Alright, I'll head out in a few minutes, text me where to meet you, 0), (Waiting 4 my tv show 2 start lor... U leh still busy doing ur report?, 0), (1's reach home call me., 0), (Is it ok if I stay the night here? Xavier has a sleeping bag and I'm getting tired, 0), (Good morning princess! Have a great day!, 0), (Wah lucky man... Then can save money... Hee..., 0), (Sun cant come to earth but send luv as rays. cloud cant come to river but send luv as rain. I cant come to meet U, but can send my care as msg to U. Gud evng, 0), (In life when you face choices Just toss a coin not becoz its settle the question But while the coin in the air U will know what your heart is hoping for. Gudni8, 0), (Yes..but they said its IT.,, 0), (Even if he my friend he is a priest call him now, 0), (Even my brother is not like to speak with me. They treat me like aids patent., 0), (Sleeping nt feeling well, 0), (Oh god. I'm gonna Google nearby cliffs now., 0), (Yo you around? A friend of mine's lookin to pick up later tonight, 0), (URGENT! Your Mobile No was awarded a £2,000 Bonus Caller Prize on 1/08/03! This is our 2nd attempt to contact YOU! Call 0871-4719-523 BOX95QU BT National Rate, 1), (alright tyler's got a minor crisis and has to be home sooner than he thought so be here asap, 0), (Hows the street where the end of library walk is?, 0), (I want to see your pretty pussy..., 0), (XCLUSIVE@CLUBSAISAI 2MOROW 28/5 SOIREE SPECIALE ZOUK WITH NICHOLS FROM PARIS.FREE ROSES 2 ALL LADIES !!! info: 07946746291/07880867867 , 1), (Hi. Happy New Year. I dont mean to intrude but can you pls let me know how much tuition you paid last semester and how much this semester is. Thanks, 0), ...]\n",
              "Index: []\n",
              "\n",
              "[0 rows x 1393 columns]"
            ]
          },
          "metadata": {
            "tags": []
          },
          "execution_count": 10
        }
      ]
    },
    {
      "cell_type": "code",
      "metadata": {
        "id": "AqkPcajxjHlQ",
        "colab_type": "code",
        "colab": {}
      },
      "source": [
        ""
      ],
      "execution_count": null,
      "outputs": []
    },
    {
      "cell_type": "code",
      "metadata": {
        "id": "xdmqJxG8hBwT",
        "colab_type": "code",
        "colab": {
          "base_uri": "https://localhost:8080/",
          "height": 34
        },
        "outputId": "033992bb-7fba-4428-f00b-c3f10673436c"
      },
      "source": [
        ""
      ],
      "execution_count": null,
      "outputs": [
        {
          "output_type": "execute_result",
          "data": {
            "text/plain": [
              "0.9806173725771715"
            ]
          },
          "metadata": {
            "tags": []
          },
          "execution_count": 76
        }
      ]
    },
    {
      "cell_type": "code",
      "metadata": {
        "id": "lPzCfy9Em5D1",
        "colab_type": "code",
        "colab": {
          "base_uri": "https://localhost:8080/",
          "height": 129
        },
        "outputId": "172217b5-e503-43b6-942c-fdf4ebbbaaa9"
      },
      "source": [
        "echo \"# spamdetector\" >> README.md\n",
        "git init\n",
        "git add README.md\n",
        "git commit -m \"first commit\"\n",
        "git remote add origin https://github.com/aadityashar/spamdetector.git\n",
        "git push -u origin master"
      ],
      "execution_count": 1,
      "outputs": [
        {
          "output_type": "error",
          "ename": "SyntaxError",
          "evalue": "ignored",
          "traceback": [
            "\u001b[0;36m  File \u001b[0;32m\"<ipython-input-1-b15c255c1399>\"\u001b[0;36m, line \u001b[0;32m1\u001b[0m\n\u001b[0;31m    echo \"# spamdetector\" >> README.md\u001b[0m\n\u001b[0m                        ^\u001b[0m\n\u001b[0;31mSyntaxError\u001b[0m\u001b[0;31m:\u001b[0m invalid syntax\n"
          ]
        }
      ]
    }
  ]
}