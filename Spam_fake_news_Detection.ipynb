{
  "nbformat": 4,
  "nbformat_minor": 0,
  "metadata": {
    "colab": {
      "name": "Spam/fake news Detection.ipynb",
      "provenance": [],
      "collapsed_sections": []
    },
    "kernelspec": {
      "name": "python3",
      "display_name": "Python 3"
    }
  },
  "cells": [
    {
      "cell_type": "code",
      "metadata": {
        "id": "soL1DkDU3Xa5",
        "colab_type": "code",
        "colab": {}
      },
      "source": [
        "import pandas as pd\n",
        "import matplotlib.pyplot as plt\n",
        "from sklearn.feature_extraction.text import CountVectorizer\n",
        "from sklearn.naive_bayes import MultinomialNB\n",
        "from google.colab import files\n",
        "from sklearn.model_selection import train_test_split\n",
        "from sklearn.metrics import accuracy_score\n",
        "import pydrive"
      ],
      "execution_count": null,
      "outputs": []
    },
    {
      "cell_type": "code",
      "metadata": {
        "id": "J6Io3MBt0bon",
        "colab_type": "code",
        "colab": {}
      },
      "source": [
        "#read\n",
        "#files.upload()"
      ],
      "execution_count": null,
      "outputs": []
    },
    {
      "cell_type": "code",
      "metadata": {
        "id": "ON2lKwZn72te",
        "colab_type": "code",
        "colab": {}
      },
      "source": [
        ""
      ],
      "execution_count": null,
      "outputs": []
    },
    {
      "cell_type": "markdown",
      "metadata": {
        "id": "ZDhvEdma4WP-",
        "colab_type": "text"
      },
      "source": [
        "https://www.analyticsvidhya.com/blog/2017/09/naive-bayes-explained/?\n",
        "http://precog.iiitd.edu.in/pubs/Sawinder_Kaur_SCI_Journal.pdf\n",
        "https://www.datacamp.com/community/tutorials/scikit-learn-fake-news\n"
      ]
    },
    {
      "cell_type": "code",
      "metadata": {
        "id": "SOcW4d9n743z",
        "colab_type": "code",
        "colab": {}
      },
      "source": [
        "fakenews=pd.read_csv('/content/drive/My Drive/SMSSpamCollection.txt',header=None,sep='\t')\n",
        "fakenews.head\n",
        "dffn=fakenews.replace(['ham','spam'],[0,1])\n",
        "dffn.columns=['label','text']\n"
      ],
      "execution_count": null,
      "outputs": []
    },
    {
      "cell_type": "code",
      "metadata": {
        "id": "tzPGsx98i_u4",
        "colab_type": "code",
        "colab": {
          "base_uri": "https://localhost:8080/",
          "height": 122
        },
        "outputId": "677e4dcf-1c61-4753-9692-9402140b853e"
      },
      "source": [
        "from google.colab import drive\n",
        "drive.mount('/content/drive')"
      ],
      "execution_count": null,
      "outputs": [
        {
          "output_type": "stream",
          "text": [
            "Go to this URL in a browser: https://accounts.google.com/o/oauth2/auth?client_id=947318989803-6bn6qk8qdgf4n4g3pfee6491hc0brc4i.apps.googleusercontent.com&redirect_uri=urn%3aietf%3awg%3aoauth%3a2.0%3aoob&response_type=code&scope=email%20https%3a%2f%2fwww.googleapis.com%2fauth%2fdocs.test%20https%3a%2f%2fwww.googleapis.com%2fauth%2fdrive%20https%3a%2f%2fwww.googleapis.com%2fauth%2fdrive.photos.readonly%20https%3a%2f%2fwww.googleapis.com%2fauth%2fpeopleapi.readonly\n",
            "\n",
            "Enter your authorization code:\n",
            "··········\n",
            "Mounted at /content/drive\n"
          ],
          "name": "stdout"
        }
      ]
    },
    {
      "cell_type": "markdown",
      "metadata": {
        "id": "Opedh-nQuW5U",
        "colab_type": "text"
      },
      "source": [
        "Error : No file of SMSSpamCollection (1).txt   \n",
        "kahan hai yeh?\n",
        "Uploaded\n",
        "Mount drive"
      ]
    },
    {
      "cell_type": "code",
      "metadata": {
        "id": "QJ04_7gybwVW",
        "colab_type": "code",
        "colab": {}
      },
      "source": [
        "#from google.colab import drive\n",
        "#drive.mount('/content/drive') "
      ],
      "execution_count": null,
      "outputs": []
    },
    {
      "cell_type": "code",
      "metadata": {
        "id": "DskA07k6Q1zv",
        "colab_type": "code",
        "colab": {
          "base_uri": "https://localhost:8080/",
          "height": 419
        },
        "outputId": "4c75dc1a-03a9-4232-8583-530945496e05"
      },
      "source": [
        "dffn"
      ],
      "execution_count": null,
      "outputs": [
        {
          "output_type": "execute_result",
          "data": {
            "text/html": [
              "<div>\n",
              "<style scoped>\n",
              "    .dataframe tbody tr th:only-of-type {\n",
              "        vertical-align: middle;\n",
              "    }\n",
              "\n",
              "    .dataframe tbody tr th {\n",
              "        vertical-align: top;\n",
              "    }\n",
              "\n",
              "    .dataframe thead th {\n",
              "        text-align: right;\n",
              "    }\n",
              "</style>\n",
              "<table border=\"1\" class=\"dataframe\">\n",
              "  <thead>\n",
              "    <tr style=\"text-align: right;\">\n",
              "      <th></th>\n",
              "      <th>label</th>\n",
              "      <th>text</th>\n",
              "    </tr>\n",
              "  </thead>\n",
              "  <tbody>\n",
              "    <tr>\n",
              "      <th>0</th>\n",
              "      <td>0</td>\n",
              "      <td>Go until jurong point, crazy.. Available only ...</td>\n",
              "    </tr>\n",
              "    <tr>\n",
              "      <th>1</th>\n",
              "      <td>0</td>\n",
              "      <td>Ok lar... Joking wif u oni...</td>\n",
              "    </tr>\n",
              "    <tr>\n",
              "      <th>2</th>\n",
              "      <td>1</td>\n",
              "      <td>Free entry in 2 a wkly comp to win FA Cup fina...</td>\n",
              "    </tr>\n",
              "    <tr>\n",
              "      <th>3</th>\n",
              "      <td>0</td>\n",
              "      <td>U dun say so early hor... U c already then say...</td>\n",
              "    </tr>\n",
              "    <tr>\n",
              "      <th>4</th>\n",
              "      <td>0</td>\n",
              "      <td>Nah I don't think he goes to usf, he lives aro...</td>\n",
              "    </tr>\n",
              "    <tr>\n",
              "      <th>...</th>\n",
              "      <td>...</td>\n",
              "      <td>...</td>\n",
              "    </tr>\n",
              "    <tr>\n",
              "      <th>5567</th>\n",
              "      <td>1</td>\n",
              "      <td>This is the 2nd time we have tried 2 contact u...</td>\n",
              "    </tr>\n",
              "    <tr>\n",
              "      <th>5568</th>\n",
              "      <td>0</td>\n",
              "      <td>Will ü b going to esplanade fr home?</td>\n",
              "    </tr>\n",
              "    <tr>\n",
              "      <th>5569</th>\n",
              "      <td>0</td>\n",
              "      <td>Pity, * was in mood for that. So...any other s...</td>\n",
              "    </tr>\n",
              "    <tr>\n",
              "      <th>5570</th>\n",
              "      <td>0</td>\n",
              "      <td>The guy did some bitching but I acted like i'd...</td>\n",
              "    </tr>\n",
              "    <tr>\n",
              "      <th>5571</th>\n",
              "      <td>0</td>\n",
              "      <td>Rofl. Its true to its name</td>\n",
              "    </tr>\n",
              "  </tbody>\n",
              "</table>\n",
              "<p>5572 rows × 2 columns</p>\n",
              "</div>"
            ],
            "text/plain": [
              "      label                                               text\n",
              "0         0  Go until jurong point, crazy.. Available only ...\n",
              "1         0                      Ok lar... Joking wif u oni...\n",
              "2         1  Free entry in 2 a wkly comp to win FA Cup fina...\n",
              "3         0  U dun say so early hor... U c already then say...\n",
              "4         0  Nah I don't think he goes to usf, he lives aro...\n",
              "...     ...                                                ...\n",
              "5567      1  This is the 2nd time we have tried 2 contact u...\n",
              "5568      0               Will ü b going to esplanade fr home?\n",
              "5569      0  Pity, * was in mood for that. So...any other s...\n",
              "5570      0  The guy did some bitching but I acted like i'd...\n",
              "5571      0                         Rofl. Its true to its name\n",
              "\n",
              "[5572 rows x 2 columns]"
            ]
          },
          "metadata": {
            "tags": []
          },
          "execution_count": 8
        }
      ]
    },
    {
      "cell_type": "code",
      "metadata": {
        "id": "fLz5J8-KQsor",
        "colab_type": "code",
        "colab": {}
      },
      "source": [
        ""
      ],
      "execution_count": null,
      "outputs": []
    },
    {
      "cell_type": "code",
      "metadata": {
        "id": "t6nDAlvtFZy-",
        "colab_type": "code",
        "colab": {}
      },
      "source": [
        "x_train,x_test,y_train,y_test = train_test_split(dffn['text'],dffn['label'])\n"
      ],
      "execution_count": null,
      "outputs": []
    },
    {
      "cell_type": "code",
      "metadata": {
        "id": "x2wQWt_ZSndP",
        "colab_type": "code",
        "colab": {
          "base_uri": "https://localhost:8080/",
          "height": 34
        },
        "outputId": "c76ddae0-87d0-4566-db34-1d4e167d8dee"
      },
      "source": [
        "vectorizer=CountVectorizer()\n",
        "counts=vectorizer.fit_transform(x_train.values) #number of each word in each message\n",
        "classifier=MultinomialNB()\n",
        "targets=y_train.values\n",
        "classifier.fit(counts,targets)\n"
      ],
      "execution_count": null,
      "outputs": [
        {
          "output_type": "execute_result",
          "data": {
            "text/plain": [
              "MultinomialNB(alpha=1.0, class_prior=None, fit_prior=True)"
            ]
          },
          "metadata": {
            "tags": []
          },
          "execution_count": 16
        }
      ]
    },
    {
      "cell_type": "code",
      "metadata": {
        "id": "HqIoKpWtqDqL",
        "colab_type": "code",
        "colab": {}
      },
      "source": [
        ""
      ],
      "execution_count": null,
      "outputs": []
    },
    {
      "cell_type": "code",
      "metadata": {
        "id": "Sgnht77zVbu2",
        "colab_type": "code",
        "colab": {
          "base_uri": "https://localhost:8080/",
          "height": 588
        },
        "outputId": "40e89580-b789-4510-8696-6e71d0d3c665"
      },
      "source": [
        "\n",
        "example_count=vectorizer.transform(x_test.values) #I was fitting instead of just transforming\n",
        "predictions=classifier.predict(example_count)\n",
        "df2=pd.DataFrame(columns=[x_test,predictions]) #Please Check the error\n",
        "df2\n",
        "\n",
        "#0-ham\n",
        "#1-spam"
      ],
      "execution_count": null,
      "outputs": [
        {
          "output_type": "execute_result",
          "data": {
            "text/html": [
              "<div>\n",
              "<style scoped>\n",
              "    .dataframe tbody tr th:only-of-type {\n",
              "        vertical-align: middle;\n",
              "    }\n",
              "\n",
              "    .dataframe tbody tr th {\n",
              "        vertical-align: top;\n",
              "    }\n",
              "\n",
              "    .dataframe thead tr th {\n",
              "        text-align: left;\n",
              "    }\n",
              "</style>\n",
              "<table border=\"1\" class=\"dataframe\">\n",
              "  <thead>\n",
              "    <tr>\n",
              "      <th>text</th>\n",
              "      <th>No plm i will come da. On the way.</th>\n",
              "      <th>Yo im right by yo work</th>\n",
              "      <th>Yar... I tot u knew dis would happen long ago already.</th>\n",
              "      <th>Nooooooo I'm gonna be bored to death all day. Cable and internet outage.</th>\n",
              "      <th>Great NEW Offer - DOUBLE Mins &amp; DOUBLE Txt on best Orange tariffs AND get latest camera phones 4 FREE! Call MobileUpd8 free on 08000839402 NOW! or 2stoptxt T&amp;Cs</th>\n",
              "      <th>Yup... I havent been there before... You want to go for the yoga? I can call up to book</th>\n",
              "      <th>I attended but nothing is there.</th>\n",
              "      <th>I;m reaching in another 2 stops.</th>\n",
              "      <th>Am okay. Will soon be over. All the best</th>\n",
              "      <th>I'm aight. Wat's happening on your side.</th>\n",
              "      <th>Thinkin about someone is all good. No drugs for that</th>\n",
              "      <th>Take us out shopping and Mark will distract Isaiah.=D</th>\n",
              "      <th>Guess what! Somebody you know secretly fancies you! Wanna find out who it is? Give us a call on 09065394514 From Landline DATEBox1282EssexCM61XN 150p/min 18</th>\n",
              "      <th>Sounds like you have many talents! would you like to go on a dinner date next week?</th>\n",
              "      <th>I have a sore throat. It's scratches when I talk</th>\n",
              "      <th>Hope ur head doesn't hurt 2 much ! Am ploughing my way through a pile of ironing ! Staying in with a chinky tonight come round if you like.</th>\n",
              "      <th>ARR birthday today:) i wish him to get more oscar.</th>\n",
              "      <th>Do well :)all will for little time. Thing of good times ahead:</th>\n",
              "      <th>PRIVATE! Your 2003 Account Statement for 07815296484 shows 800 un-redeemed S.I.M. points. Call 08718738001 Identifier Code 41782 Expires 18/11/04</th>\n",
              "      <th>Yup but it's not giving me problems now so mayb i'll jus leave it...</th>\n",
              "      <th>Ok then i will come to ur home after half an hour</th>\n",
              "      <th>No b4 Thursday</th>\n",
              "      <th>Lol no. I just need to cash in my nitros. Hurry come on before I crash out!</th>\n",
              "      <th>Oh really? perform, write a paper, go to a movie AND be home by midnight, huh?</th>\n",
              "      <th>Prabha..i'm soryda..realy..frm heart i'm sory</th>\n",
              "      <th>My fri ah... Okie lor,goin 4 my drivin den go shoppin after tt...</th>\n",
              "      <th>FREE&gt;Ringtone! Reply REAL or POLY eg REAL1 1. PushButton 2. DontCha 3. BabyGoodbye 4. GoldDigger 5. WeBeBurnin 1st tone FREE and 6 more when u join for £3/wk</th>\n",
              "      <th>That's fine, I'll bitch at you about it later then</th>\n",
              "      <th>Hello, hello, hi lou sorry it took so long 2 reply- I left mobile at friends in Lancaster, just got it bak Neway im sorry I couldnt make ur bday 2 hun!</th>\n",
              "      <th>May i call You later Pls</th>\n",
              "      <th>I wonder how you got online, my love ? Had you gone to the net cafe ? Did you get your phone recharged ? Were you on a friends net ? I think of you, boytoy</th>\n",
              "      <th>K.k:)advance happy pongal.</th>\n",
              "      <th>Gud mrng dear hav a nice day</th>\n",
              "      <th>Hello. Damn this christmas thing. I think i have decided to keep this mp3 that doesnt work.</th>\n",
              "      <th>Hey so this sat are we going for the intro pilates only? Or the kickboxing too?</th>\n",
              "      <th>I went to ur hon lab but no one is there.</th>\n",
              "      <th>Good Morning plz call me sir</th>\n",
              "      <th>Congratulations - Thanks to a good friend U have WON the £2,000 Xmas prize. 2 claim is easy, just call 08712103738 NOW! Only 10p per minute. BT-national-rate</th>\n",
              "      <th>Night has ended for another day, morning has come in a special way. May you smile like the sunny rays and leaves your worries at the blue blue bay. Gud mrng</th>\n",
              "      <th>Yes I posted a couple of pics on fb. There's still snow outside too. I'm just waking up :)</th>\n",
              "      <th>...</th>\n",
              "      <th>Uh, heads up we don't have THAT much left</th>\n",
              "      <th>This msg is for your mobile content order It has been resent as previous attempt failed due to network error Queries to customersqueries@netvision.uk.com</th>\n",
              "      <th>Prabha..i'm soryda..realy..frm heart i'm sory</th>\n",
              "      <th>Carlos is taking his sweet time as usual so let me know when you and patty are done/want to smoke and I'll tell him to haul ass</th>\n",
              "      <th>Ok. She'll be ok. I guess</th>\n",
              "      <th>Also fuck you and your family for going to rhode island or wherever the fuck and leaving me all alone the week I have a new bong &amp;gt;:(</th>\n",
              "      <th>No:-)i got rumour that you going to buy apartment in chennai:-)</th>\n",
              "      <th>Is there coming friday is leave for pongal?do you get any news from your work place.</th>\n",
              "      <th>Yes i have. So that's why u texted. Pshew...missing you so much</th>\n",
              "      <th>do u think that any girl will propose u today by seing ur bloody funky shit fucking face...............asssssholeeee................</th>\n",
              "      <th>Can you call me plz. Your number shows out of coveragd area. I have urgnt call in vasai &amp;amp; have to reach before 4'o clock so call me plz</th>\n",
              "      <th>Can a not?</th>\n",
              "      <th>Doing project w frens lor.</th>\n",
              "      <th>I thought i'd get him a watch, just cos thats the kind of thing u get4an18th. And he loves so much!</th>\n",
              "      <th>As per your request 'Melle Melle (Oru Minnaminunginte Nurungu Vettam)' has been set as your callertune for all Callers. Press *9 to copy your friends Callertune</th>\n",
              "      <th>K.i did't see you.:)k:)where are you now?</th>\n",
              "      <th>Some friends want me to drive em someplace, probably take a while</th>\n",
              "      <th>I said its okay. Sorry</th>\n",
              "      <th>HMV BONUS SPECIAL 500 pounds of genuine HMV vouchers to be won. Just answer 4 easy questions. Play Now! Send HMV to 86688 More info:www.100percent-real.com</th>\n",
              "      <th>I re-met alex nichols from middle school and it turns out he's dealing!</th>\n",
              "      <th>Fighting with the world is easy, u either win or lose bt fightng with some1 who is close to u is dificult if u lose - u lose if u win - u still lose.</th>\n",
              "      <th>When you just put in the + sign, choose my number and the pin will show. Right?</th>\n",
              "      <th>Sorry completely forgot * will pop em round this week if your still here?</th>\n",
              "      <th>Armand says get your ass over to epsilon</th>\n",
              "      <th>sorry brah, just finished the last of my exams, what up</th>\n",
              "      <th>Cps is causing the outages to conserve energy.</th>\n",
              "      <th>Kate jackson rec center before 7ish, right?</th>\n",
              "      <th>All these nice new shirts and the only thing I can wear them to is nudist themed ;_; you in mu?</th>\n",
              "      <th>I will come to ur home now</th>\n",
              "      <th>Gud ni8 dear..slp well..take care..swt dreams..Muah..</th>\n",
              "      <th>Block Breaker now comes in deluxe format with new features and great graphics from T-Mobile. Buy for just £5 by replying GET BBDELUXE and take the challenge</th>\n",
              "      <th>OH MR SHEFFIELD! You wanna play THAT game, okay. You're the boss and I'm the nanny. You give me a raise and I'll give YOU one!!</th>\n",
              "      <th>Talk to g and x about that</th>\n",
              "      <th>I just saw ron burgundy captaining a party boat so yeah</th>\n",
              "      <th>We walked from my moms. Right on stagwood pass right on winterstone left on victors hill. Address is &amp;lt;#&amp;gt;</th>\n",
              "      <th>Nope... Juz off from work...</th>\n",
              "      <th>As per your request 'Maangalyam (Alaipayuthe)' has been set as your callertune for all Callers. Press *9 to copy your friends Callertune</th>\n",
              "      <th>Hiya, had a good day? Have you spoken to since the weekend?</th>\n",
              "      <th>Bring it if you got it</th>\n",
              "      <th>Just taste fish curry :-P</th>\n",
              "    </tr>\n",
              "    <tr>\n",
              "      <th></th>\n",
              "      <th>0</th>\n",
              "      <th>0</th>\n",
              "      <th>0</th>\n",
              "      <th>0</th>\n",
              "      <th>1</th>\n",
              "      <th>0</th>\n",
              "      <th>0</th>\n",
              "      <th>0</th>\n",
              "      <th>0</th>\n",
              "      <th>0</th>\n",
              "      <th>0</th>\n",
              "      <th>0</th>\n",
              "      <th>1</th>\n",
              "      <th>0</th>\n",
              "      <th>0</th>\n",
              "      <th>0</th>\n",
              "      <th>0</th>\n",
              "      <th>0</th>\n",
              "      <th>1</th>\n",
              "      <th>0</th>\n",
              "      <th>0</th>\n",
              "      <th>0</th>\n",
              "      <th>0</th>\n",
              "      <th>0</th>\n",
              "      <th>0</th>\n",
              "      <th>0</th>\n",
              "      <th>1</th>\n",
              "      <th>0</th>\n",
              "      <th>0</th>\n",
              "      <th>0</th>\n",
              "      <th>0</th>\n",
              "      <th>0</th>\n",
              "      <th>0</th>\n",
              "      <th>0</th>\n",
              "      <th>0</th>\n",
              "      <th>0</th>\n",
              "      <th>0</th>\n",
              "      <th>1</th>\n",
              "      <th>0</th>\n",
              "      <th>0</th>\n",
              "      <th>...</th>\n",
              "      <th>0</th>\n",
              "      <th>1</th>\n",
              "      <th>0</th>\n",
              "      <th>0</th>\n",
              "      <th>0</th>\n",
              "      <th>0</th>\n",
              "      <th>0</th>\n",
              "      <th>0</th>\n",
              "      <th>0</th>\n",
              "      <th>0</th>\n",
              "      <th>0</th>\n",
              "      <th>0</th>\n",
              "      <th>0</th>\n",
              "      <th>0</th>\n",
              "      <th>0</th>\n",
              "      <th>0</th>\n",
              "      <th>0</th>\n",
              "      <th>0</th>\n",
              "      <th>1</th>\n",
              "      <th>0</th>\n",
              "      <th>0</th>\n",
              "      <th>0</th>\n",
              "      <th>0</th>\n",
              "      <th>0</th>\n",
              "      <th>0</th>\n",
              "      <th>0</th>\n",
              "      <th>0</th>\n",
              "      <th>0</th>\n",
              "      <th>0</th>\n",
              "      <th>0</th>\n",
              "      <th>0</th>\n",
              "      <th>0</th>\n",
              "      <th>0</th>\n",
              "      <th>0</th>\n",
              "      <th>0</th>\n",
              "      <th>0</th>\n",
              "      <th>0</th>\n",
              "      <th>0</th>\n",
              "      <th>0</th>\n",
              "      <th>0</th>\n",
              "    </tr>\n",
              "  </thead>\n",
              "  <tbody>\n",
              "  </tbody>\n",
              "</table>\n",
              "<p>0 rows × 1393 columns</p>\n",
              "</div>"
            ],
            "text/plain": [
              "Empty DataFrame\n",
              "Columns: [(No plm i will come da. On the way., 0), (Yo im right by yo work, 0), (Yar... I tot u knew dis would happen long ago already., 0), (Nooooooo I'm gonna be bored to death all day. Cable and internet outage., 0), (Great NEW Offer - DOUBLE Mins & DOUBLE Txt on best Orange tariffs AND get latest camera phones 4 FREE! Call MobileUpd8 free on 08000839402 NOW! or 2stoptxt T&Cs, 1), (Yup... I havent been there before... You want to go for the yoga? I can call up to book , 0), (I attended but nothing is there., 0), (I;m reaching in another 2 stops., 0), (Am okay. Will soon be over. All the best, 0), (I'm aight. Wat's happening on your side., 0), (Thinkin about someone is all good. No drugs for that, 0), (Take us out shopping and Mark will distract Isaiah.=D, 0), (Guess what! Somebody you know secretly fancies you! Wanna find out who it is? Give us a call on 09065394514 From Landline DATEBox1282EssexCM61XN 150p/min 18, 1), (Sounds like you have many talents! would you like to go on a dinner date next week?, 0), (I have a sore throat. It's scratches when I talk, 0), (Hope ur head doesn't hurt 2 much ! Am ploughing my way through a pile of ironing ! Staying in with a chinky tonight come round if you like., 0), (ARR birthday today:) i wish him to get more oscar., 0), (Do well :)all will for little time. Thing of good times ahead:, 0), (PRIVATE! Your 2003 Account Statement for 07815296484 shows 800 un-redeemed S.I.M. points. Call 08718738001 Identifier Code 41782 Expires 18/11/04 , 1), (Yup but it's not giving me problems now so mayb i'll jus leave it..., 0), (Ok then i will come to ur home after half an hour, 0), (No b4 Thursday, 0), (Lol no. I just need to cash in my nitros. Hurry come on before I crash out!, 0), (Oh really? perform, write a paper, go to a movie AND be home by midnight, huh?, 0), (Prabha..i'm soryda..realy..frm heart i'm sory, 0), (My fri ah... Okie lor,goin 4 my drivin den go shoppin after tt..., 0), (FREE>Ringtone! Reply REAL or POLY eg REAL1 1. PushButton 2. DontCha 3. BabyGoodbye 4. GoldDigger 5. WeBeBurnin 1st tone FREE and 6 more when u join for £3/wk, 1), (That's fine, I'll bitch at you about it later then, 0), (Hello, hello, hi lou sorry it took so long 2 reply- I left mobile at friends in Lancaster, just got it bak Neway im sorry I couldnt make ur bday 2 hun!, 0), (May i call You later Pls, 0), (I wonder how you got online, my love ? Had you gone to the net cafe ? Did you get your phone recharged ? Were you on a friends net ? I think of you, boytoy, 0), (K.k:)advance happy pongal., 0), (Gud mrng dear hav a nice day, 0), (Hello. Damn this christmas thing. I think i have decided to keep this mp3 that doesnt work., 0), (Hey so this sat are we going for the intro pilates only? Or the kickboxing too? , 0), (I went to ur hon lab but no one is there., 0), (Good Morning plz call me sir, 0), (Congratulations - Thanks to a good friend U have WON the £2,000 Xmas prize. 2 claim is easy, just call 08712103738 NOW! Only 10p per minute. BT-national-rate, 1), (Night has ended for another day, morning has come in a special way. May you smile like the sunny rays and leaves your worries at the blue blue bay. Gud mrng, 0), (Yes I posted a couple of pics on fb. There's still snow outside too. I'm just waking up :), 0), (I'm an actor. When i work, i work in the evening and sleep late. Since i'm unemployed at the moment, i ALWAYS sleep late. When you're unemployed, every day is saturday., 0), (No probably  &lt;#&gt; %., 0), (New Tones This week include: 1)McFly-All Ab.., 2) Sara Jorge-Shock.. 3) Will Smith-Switch.. To order follow instructions on next message, 1), (Probably not, I'm almost out of gas and I get some cash tomorrow, 0), (Edison has rightly said, \"A fool can ask more questions than a wise man can answer\" Now you know why all of us are speechless during ViVa.. GM,GN,GE,GNT:-), 0), (A £400 XMAS REWARD IS WAITING FOR YOU! Our computer has randomly picked you from our loyal mobile customers to receive a £400 reward. Just call 09066380611, 1), (Tick, tick, tick ... Babe, 0), (Stupid.its not possible, 0), (Glad it went well :) come over at 11 then we'll have plenty of time before claire goes to work., 0), (Did u receive my msg?, 0), (Dude im no longer a pisces. Im an aquarius now., 0), (....photoshop makes my computer shut down., 0), (I'm at home. Please call, 0), (Y lei?, 0), (It's ok i wun b angry. Msg u aft i come home tonight., 0), (Hi dude hw r u da realy mising u today, 0), (K...k...when will you give treat?, 0), (K, I'll work something out, 0), (Thank you. And by the way, I just lost., 0), (I love to wine and dine my lady!, 0), (The gas station is like a block away from my house, you'll drive right by it since armenia ends at swann and you have to take howard, 0), (Japanese Proverb: If one Can do it, U too Can do it, If none Can do it,U must do it Indian version: If one Can do it, LET HIM DO it.. If none Can do it,LEAVE it!! And finally Kerala version: If one can do it, Stop him doing it.. If none can do it, Make a strike against it ..., 0), (Dude sux for snake. He got old and raiden got buff, 0), (Urgent UR awarded a complimentary trip to EuroDisinc Trav, Aco&Entry41 Or £1000. To claim txt DIS to 87121 18+6*£1.50(moreFrmMob. ShrAcomOrSglSuplt)10, LS1 3AJ, 1), (Got what it takes 2 take part in the WRC Rally in Oz? U can with Lucozade Energy! Text RALLY LE to 61200 (25p), see packs or lucozade.co.uk/wrc & itcould be u!, 1), (No. She's currently in scotland for that., 0), (I just cooked a rather nice salmon a la you, 0), (I'm nt goin, got somethin on, unless they meetin 4 dinner lor... Haha, i wonder who will go tis time..., 0), (Congratulations U can claim 2 VIP row A Tickets 2 C Blu in concert in November or Blu gift guaranteed Call 09061104276 to claim TS&Cs www.smsco.net cost£3.75max , 1), (Sorry, I'll call later, 0), (I wanted to wish you a Happy New Year and I wanted to talk to you about some legal advice to do with when Gary and I split but in person. I'll make a trip to Ptbo for that. I hope everything is good with you babe and I love ya :), 0), (He fucking chickened out. He messaged me he would be late and woould buzz me and then I didn't hear a word from him, 0), (Its a site to simulate the test. It just gives you very tough questions to test your readiness., 0), (Promotion Number: 8714714 - UR awarded a City Break and could WIN a £200 Summer Shopping spree every WK. Txt STORE to 88039 . SkilGme. TsCs087147403231Winawk!Age16 £1.50perWKsub, 1), (You call him and tell now infront of them. Call him now., 0), (Wow v v impressed. Have funs shopping!, 0), (wow. You're right! I didn't mean to do that. I guess once i gave up on boston men and changed my search location to nyc, something changed. Cuz on my signin page it still says boston., 0), (I know I'm lacking on most of this particular dramastorm's details but for the most part I'm not worried about that, 0), (Lol no ouch but wish i'd stayed out a bit longer, 0), (Hi msg me:)i'm in office.., 0), (Or ill be a little closer like at the bus stop on the same street, 0), (S:)but he had some luck.2 catches put down:), 0), (Kaiez... Enjoy ur tuition... Gee... Thk e second option sounds beta... I'll go yan jiu den msg u..., 0), (Beautiful Truth against Gravity.. Read carefully: \"Our heart feels light when someone is in it.. But it feels very heavy when someone leaves it..\" GOOD NIGHT, 0), (I will once i get home, 0), (I wud never mind if u dont miss me or if u dont need me.. But u wil really hurt me wen u need me &amp; u dont tell me......... Take care:-), 0), (Hey chief, can you give me a bell when you get this. Need to talk to you about this royal visit on the 1st june. , 0), (Mm not entirely sure i understood that text but hey. Ho. Which weekend?, 0), (Ok i msg u b4 i leave my house., 0), (Im just wondering what your doing right now?, 0), (Remember all those whom i hurt during days of satanic imposter in me.need to pay a price,so be it.may destiny keep me going and as u said pray that i get the mind to get over the same., 0), (That was random saw my old roomate on campus. He graduated, 0), (BangBabes Ur order is on the way. U SHOULD receive a Service Msg 2 download UR content. If U do not, GoTo wap. bangb. tv on UR mobile internet/service menu, 1), (I've reached home n i bathe liao... U can call me now..., 0), (Don know..he is watching film in computer.., 0), (Goodmorning, Today i am late for  &lt;#&gt; min., 0), (Maybe i could get book out tomo then return it immediately ..? Or something., 0), (St andre, virgil's cream, 0), (Why did I wake up on my own &gt;:(, 0), (I love your ass! Do you enjoy doggy style? :), 0), ...]\n",
              "Index: []\n",
              "\n",
              "[0 rows x 1393 columns]"
            ]
          },
          "metadata": {
            "tags": []
          },
          "execution_count": 17
        }
      ]
    },
    {
      "cell_type": "code",
      "metadata": {
        "id": "AqkPcajxjHlQ",
        "colab_type": "code",
        "colab": {}
      },
      "source": [
        ""
      ],
      "execution_count": null,
      "outputs": []
    },
    {
      "cell_type": "code",
      "metadata": {
        "id": "xdmqJxG8hBwT",
        "colab_type": "code",
        "colab": {
          "base_uri": "https://localhost:8080/",
          "height": 34
        },
        "outputId": "033992bb-7fba-4428-f00b-c3f10673436c"
      },
      "source": [
        ""
      ],
      "execution_count": null,
      "outputs": [
        {
          "output_type": "execute_result",
          "data": {
            "text/plain": [
              "0.9806173725771715"
            ]
          },
          "metadata": {
            "tags": []
          },
          "execution_count": 76
        }
      ]
    },
    {
      "cell_type": "code",
      "metadata": {
        "id": "lPzCfy9Em5D1",
        "colab_type": "code",
        "colab": {
          "base_uri": "https://localhost:8080/",
          "height": 129
        },
        "outputId": "172217b5-e503-43b6-942c-fdf4ebbbaaa9"
      },
      "source": [
        "echo \"# spamdetector\" >> README.md\n",
        "git init\n",
        "git add README.md\n",
        "git commit -m \"first commit\"\n",
        "git remote add origin https://github.com/aadityashar/spamdetector.git\n",
        "git push -u origin master"
      ],
      "execution_count": 1,
      "outputs": [
        {
          "output_type": "error",
          "ename": "SyntaxError",
          "evalue": "ignored",
          "traceback": [
            "\u001b[0;36m  File \u001b[0;32m\"<ipython-input-1-b15c255c1399>\"\u001b[0;36m, line \u001b[0;32m1\u001b[0m\n\u001b[0;31m    echo \"# spamdetector\" >> README.md\u001b[0m\n\u001b[0m                        ^\u001b[0m\n\u001b[0;31mSyntaxError\u001b[0m\u001b[0;31m:\u001b[0m invalid syntax\n"
          ]
        }
      ]
    }
  ]
}